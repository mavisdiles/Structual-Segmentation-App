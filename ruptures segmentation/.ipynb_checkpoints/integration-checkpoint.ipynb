{
 "cells": [
  {
   "cell_type": "markdown",
   "id": "0bd7d07c",
   "metadata": {},
   "source": [
    "## centroid extraction"
   ]
  },
  {
   "cell_type": "code",
   "execution_count": null,
   "id": "c6cd3c16",
   "metadata": {},
   "outputs": [],
   "source": [
    "import librosa,librosa.display\n",
    "\n",
    "y, sr = librosa.load('./Faded_Alan Walker.mp3')\n",
    "cent = librosa.feature.spectral_centroid(y=y, sr=sr)\n",
    "print(cent)"
   ]
  },
  {
   "cell_type": "markdown",
   "id": "640cf9a7",
   "metadata": {},
   "source": [
    "## point detection "
   ]
  },
  {
   "cell_type": "code",
   "execution_count": null,
   "id": "fda469f2",
   "metadata": {},
   "outputs": [],
   "source": [
    "import matplotlib.pyplot as plt \n",
    "import ruptures as rpt  \n",
    "\n",
    "signal = cent\n",
    "signal = signal.T\n",
    "\n",
    "# detection\n",
    "algo = rpt.Dynp(model=\"l2\").fit(signal)\n",
    "result = algo.predict(n_bkps=7)\n",
    "\n",
    "print(result)\n",
    "\n",
    "# display segmentation\n",
    "rpt.display(signal,  result)\n",
    "plt.show()"
   ]
  },
  {
   "cell_type": "markdown",
   "id": "9ca78724",
   "metadata": {},
   "source": [
    "## segmentation extract"
   ]
  },
  {
   "cell_type": "code",
   "execution_count": null,
   "id": "faff2384",
   "metadata": {},
   "outputs": [],
   "source": [
    "pre_section = result\n",
    "section=[]\n",
    "for i in range(len(pre_section)):\n",
    "    section.append(pre_section[i]//40)"
   ]
  },
  {
   "cell_type": "markdown",
   "id": "b13e4589",
   "metadata": {},
   "source": [
    "## face detection"
   ]
  },
  {
   "cell_type": "code",
   "execution_count": null,
   "id": "790ec5fa",
   "metadata": {},
   "outputs": [],
   "source": [
    "import pygame\n",
    "pygame.init() \n",
    "pygame.mixer.music.load( './Faded_Alan Walker.mp3' )\n",
    "import time\n",
    "\n",
    "import cv2\n",
    "import numpy as np   \n",
    "#from keras.preprocessing.image import img_to_array\n",
    "from tensorflow.keras.utils import img_to_array\n",
    "from keras.models import load_model\n",
    "\n",
    "# Face detection XML load and trained model loading\n",
    "face_detection = cv2.CascadeClassifier('models/haarcascade_frontalface_default.xml')\n",
    "emotion_classifier = load_model('models/emotion_model.hdf5', compile=False)\n",
    "EMOTIONS = [\"Angry\" ,\"Disgusting\",\"Fearful\", \"Happy\", \"Sad\", \"Surpring\", \"Neutral\"]\n",
    "\n",
    "# Video capture using webcam\n",
    "camera = cv2.VideoCapture(0)\n",
    "\n",
    "prev_time = 0\n",
    "prev_point =0\n",
    "FPS = 10\n",
    "\n",
    "while True:\n",
    "    # Capture image from camera\n",
    "    ret, frame = camera.read()\n",
    "    \n",
    "    # Convert color to gray scale\n",
    "    gray = cv2.cvtColor(frame, cv2.COLOR_BGR2GRAY)\n",
    "    \n",
    "    # Face detection in frame\n",
    "    faces = face_detection.detectMultiScale(gray,\n",
    "                                            scaleFactor=1.1,\n",
    "                                            minNeighbors=5,\n",
    "                                            minSize=(30,30))\n",
    "    \n",
    "    # Create empty image\n",
    "    canvas = np.zeros((250, 300, 3), dtype=\"uint8\")\n",
    "    \n",
    "    # Perform emotion recognition only when face is detected\n",
    "    if len(faces) > 0:\n",
    "        # For the largest image\n",
    "        face = sorted(faces, reverse=True, key=lambda x: (x[2] - x[0]) * (x[3] - x[1]))[0]\n",
    "        (fX, fY, fW, fH) = face\n",
    "        # Resize the image to 48x48 for neural network\n",
    "        roi = gray[fY:fY + fH, fX:fX + fW]\n",
    "        roi = cv2.resize(roi, (64, 64))\n",
    "        roi = roi.astype(\"float\") / 255.0\n",
    "        roi = img_to_array(roi)\n",
    "        roi = np.expand_dims(roi, axis=0)\n",
    "        \n",
    "        # Emotion predict\n",
    "        preds = emotion_classifier.predict(roi)[0]\n",
    "        emotion_probability = np.max(preds)\n",
    "        label = EMOTIONS[preds.argmax()]\n",
    "        \n",
    "        \n",
    "        # Assign labeling\n",
    "        cv2.putText(frame, label, (fX, fY - 10), cv2.FONT_HERSHEY_SIMPLEX, 0.45, (0, 0, 255), 2)\n",
    "        cv2.rectangle(frame, (fX, fY), (fX + fW, fY + fH), (0, 0, 255), 2)\n",
    " \n",
    "        # Label printing\n",
    "        for (i, (emotion, prob)) in enumerate(zip(EMOTIONS, preds)):\n",
    "            text = \"{}: {:.2f}%\".format(emotion, prob * 100)    \n",
    "            w = int(prob * 300)\n",
    "            cv2.rectangle(canvas, (7, (i * 35) + 5), (w, (i * 35) + 35), (0, 0, 255), -1)\n",
    "            cv2.putText(canvas, text, (10, (i * 35) + 23), cv2.FONT_HERSHEY_SIMPLEX, 0.45, (255, 255, 255), 2)\n",
    "    \n",
    "    current_time = time.time() - prev_time\n",
    "    \n",
    "    if (ret is True) and (current_time > 20./ FPS) :\n",
    "        prev_time = time.time()\n",
    "        # playing music\n",
    "        if preds.argmax() == 4:#sad\n",
    "            point = 0\n",
    "        elif preds.argmax() == 0 or preds.argmax() == 1 or preds.argmax() == 2:#angry,disgusting,fearful\n",
    "            point = section[1]\n",
    "        elif preds.argmax() == 3 or preds.argmax() == 5:# happy,surprising\n",
    "            point = section[2]\n",
    "        elif preds.argmax() == 6:# Neutral\n",
    "            point = section[3]\n",
    "        \n",
    "        if point != prev_point:\n",
    "            pygame.mixer.music.play(loops=0, start=point)\n",
    "        prev_point = point\n",
    "        \n",
    "    # Open two windows\n",
    "    ## Display image (\"Emotion Recognition\")\n",
    "    ## Display probabilities of emotion\n",
    "    cv2.imshow('Emotion Recognition', frame)\n",
    "    cv2.imshow(\"Probabilities\", canvas)\n",
    "    \n",
    "    # q to quit\n",
    "    if cv2.waitKey(1) & 0xFF == ord('q'):\n",
    "        break\n",
    "\n",
    "# Clear program and close windows\n",
    "camera.release()\n",
    "cv2.destroyAllWindows()"
   ]
  }
 ],
 "metadata": {
  "kernelspec": {
   "display_name": "Python 3",
   "language": "python",
   "name": "python3"
  },
  "language_info": {
   "codemirror_mode": {
    "name": "ipython",
    "version": 3
   },
   "file_extension": ".py",
   "mimetype": "text/x-python",
   "name": "python",
   "nbconvert_exporter": "python",
   "pygments_lexer": "ipython3",
   "version": "3.8.8"
  }
 },
 "nbformat": 4,
 "nbformat_minor": 5
}
